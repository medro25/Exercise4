{
  "nbformat": 4,
  "nbformat_minor": 0,
  "metadata": {
    "colab": {
      "provenance": []
    },
    "kernelspec": {
      "name": "python3",
      "display_name": "Python 3"
    },
    "language_info": {
      "name": "python"
    }
  },
  "cells": [
    {
      "cell_type": "code",
      "execution_count": 4,
      "metadata": {
        "colab": {
          "base_uri": "https://localhost:8080/",
          "height": 0
        },
        "id": "bbd0U08hhcLv",
        "outputId": "ea1d42b3-5241-4535-82a3-787cfebd4f52"
      },
      "outputs": [
        {
          "output_type": "stream",
          "name": "stdout",
          "text": [
            "Looking in indexes: https://pypi.org/simple, https://us-python.pkg.dev/colab-wheels/public/simple/\n",
            "Collecting pyspark\n",
            "  Downloading pyspark-3.4.0.tar.gz (310.8 MB)\n",
            "\u001b[2K     \u001b[90m━━━━━━━━━━━━━━━━━━━━━━━━━━━━━━━━━━━━━━━\u001b[0m \u001b[32m310.8/310.8 MB\u001b[0m \u001b[31m2.9 MB/s\u001b[0m eta \u001b[36m0:00:00\u001b[0m\n",
            "\u001b[?25h  Preparing metadata (setup.py) ... \u001b[?25l\u001b[?25hdone\n",
            "Requirement already satisfied: py4j==0.10.9.7 in /usr/local/lib/python3.10/dist-packages (from pyspark) (0.10.9.7)\n",
            "Building wheels for collected packages: pyspark\n",
            "  Building wheel for pyspark (setup.py) ... \u001b[?25l\u001b[?25hdone\n",
            "  Created wheel for pyspark: filename=pyspark-3.4.0-py2.py3-none-any.whl size=311317130 sha256=d181a5a56692f30bb2072b3b7bb4337c61c0cecab2c4f87b45c806d2b2ca6a1f\n",
            "  Stored in directory: /root/.cache/pip/wheels/7b/1b/4b/3363a1d04368e7ff0d408e57ff57966fcdf00583774e761327\n",
            "Successfully built pyspark\n",
            "Installing collected packages: pyspark\n",
            "Successfully installed pyspark-3.4.0\n"
          ]
        }
      ],
      "source": [
        "pip install pyspark\n"
      ]
    },
    {
      "cell_type": "code",
      "source": [
        "import os\n",
        "import numpy as np\n",
        "import pandas as pd\n",
        "from pyspark.sql.types import *\n",
        "from pyspark.ml import Pipeline\n",
        "from pyspark.sql import functions as f\n",
        "from pyspark.sql.functions import udf, StringType\n",
        "from pyspark.sql import SparkSession, functions as F\n",
        "from pyspark.ml.evaluation import MulticlassClassificationEvaluator\n",
        "from pyspark.ml.classification import MultilayerPerceptronClassifier\n",
        "from pyspark.ml.feature import OneHotEncoder, VectorAssembler,StringIndexer\n",
        "#Building session now\n",
        "spark =SparkSession.builder.appName('deep_learning_with_spark').getOrCreate()"
      ],
      "metadata": {
        "id": "StgwvpqihwxF"
      },
      "execution_count": 5,
      "outputs": []
    },
    {
      "cell_type": "code",
      "source": [
        "from google.colab import files\n",
        "\n",
        "\n",
        "uploaded = files.upload()"
      ],
      "metadata": {
        "colab": {
          "base_uri": "https://localhost:8080/",
          "height": 73
        },
        "id": "FEAefE5olz4J",
        "outputId": "cc675b62-6d81-4fed-8355-e4eb6a02fb20"
      },
      "execution_count": 6,
      "outputs": [
        {
          "output_type": "display_data",
          "data": {
            "text/plain": [
              "<IPython.core.display.HTML object>"
            ],
            "text/html": [
              "\n",
              "     <input type=\"file\" id=\"files-215cd930-a50d-4ebb-ac4a-6f81e1c73a73\" name=\"files[]\" multiple disabled\n",
              "        style=\"border:none\" />\n",
              "     <output id=\"result-215cd930-a50d-4ebb-ac4a-6f81e1c73a73\">\n",
              "      Upload widget is only available when the cell has been executed in the\n",
              "      current browser session. Please rerun this cell to enable.\n",
              "      </output>\n",
              "      <script>// Copyright 2017 Google LLC\n",
              "//\n",
              "// Licensed under the Apache License, Version 2.0 (the \"License\");\n",
              "// you may not use this file except in compliance with the License.\n",
              "// You may obtain a copy of the License at\n",
              "//\n",
              "//      http://www.apache.org/licenses/LICENSE-2.0\n",
              "//\n",
              "// Unless required by applicable law or agreed to in writing, software\n",
              "// distributed under the License is distributed on an \"AS IS\" BASIS,\n",
              "// WITHOUT WARRANTIES OR CONDITIONS OF ANY KIND, either express or implied.\n",
              "// See the License for the specific language governing permissions and\n",
              "// limitations under the License.\n",
              "\n",
              "/**\n",
              " * @fileoverview Helpers for google.colab Python module.\n",
              " */\n",
              "(function(scope) {\n",
              "function span(text, styleAttributes = {}) {\n",
              "  const element = document.createElement('span');\n",
              "  element.textContent = text;\n",
              "  for (const key of Object.keys(styleAttributes)) {\n",
              "    element.style[key] = styleAttributes[key];\n",
              "  }\n",
              "  return element;\n",
              "}\n",
              "\n",
              "// Max number of bytes which will be uploaded at a time.\n",
              "const MAX_PAYLOAD_SIZE = 100 * 1024;\n",
              "\n",
              "function _uploadFiles(inputId, outputId) {\n",
              "  const steps = uploadFilesStep(inputId, outputId);\n",
              "  const outputElement = document.getElementById(outputId);\n",
              "  // Cache steps on the outputElement to make it available for the next call\n",
              "  // to uploadFilesContinue from Python.\n",
              "  outputElement.steps = steps;\n",
              "\n",
              "  return _uploadFilesContinue(outputId);\n",
              "}\n",
              "\n",
              "// This is roughly an async generator (not supported in the browser yet),\n",
              "// where there are multiple asynchronous steps and the Python side is going\n",
              "// to poll for completion of each step.\n",
              "// This uses a Promise to block the python side on completion of each step,\n",
              "// then passes the result of the previous step as the input to the next step.\n",
              "function _uploadFilesContinue(outputId) {\n",
              "  const outputElement = document.getElementById(outputId);\n",
              "  const steps = outputElement.steps;\n",
              "\n",
              "  const next = steps.next(outputElement.lastPromiseValue);\n",
              "  return Promise.resolve(next.value.promise).then((value) => {\n",
              "    // Cache the last promise value to make it available to the next\n",
              "    // step of the generator.\n",
              "    outputElement.lastPromiseValue = value;\n",
              "    return next.value.response;\n",
              "  });\n",
              "}\n",
              "\n",
              "/**\n",
              " * Generator function which is called between each async step of the upload\n",
              " * process.\n",
              " * @param {string} inputId Element ID of the input file picker element.\n",
              " * @param {string} outputId Element ID of the output display.\n",
              " * @return {!Iterable<!Object>} Iterable of next steps.\n",
              " */\n",
              "function* uploadFilesStep(inputId, outputId) {\n",
              "  const inputElement = document.getElementById(inputId);\n",
              "  inputElement.disabled = false;\n",
              "\n",
              "  const outputElement = document.getElementById(outputId);\n",
              "  outputElement.innerHTML = '';\n",
              "\n",
              "  const pickedPromise = new Promise((resolve) => {\n",
              "    inputElement.addEventListener('change', (e) => {\n",
              "      resolve(e.target.files);\n",
              "    });\n",
              "  });\n",
              "\n",
              "  const cancel = document.createElement('button');\n",
              "  inputElement.parentElement.appendChild(cancel);\n",
              "  cancel.textContent = 'Cancel upload';\n",
              "  const cancelPromise = new Promise((resolve) => {\n",
              "    cancel.onclick = () => {\n",
              "      resolve(null);\n",
              "    };\n",
              "  });\n",
              "\n",
              "  // Wait for the user to pick the files.\n",
              "  const files = yield {\n",
              "    promise: Promise.race([pickedPromise, cancelPromise]),\n",
              "    response: {\n",
              "      action: 'starting',\n",
              "    }\n",
              "  };\n",
              "\n",
              "  cancel.remove();\n",
              "\n",
              "  // Disable the input element since further picks are not allowed.\n",
              "  inputElement.disabled = true;\n",
              "\n",
              "  if (!files) {\n",
              "    return {\n",
              "      response: {\n",
              "        action: 'complete',\n",
              "      }\n",
              "    };\n",
              "  }\n",
              "\n",
              "  for (const file of files) {\n",
              "    const li = document.createElement('li');\n",
              "    li.append(span(file.name, {fontWeight: 'bold'}));\n",
              "    li.append(span(\n",
              "        `(${file.type || 'n/a'}) - ${file.size} bytes, ` +\n",
              "        `last modified: ${\n",
              "            file.lastModifiedDate ? file.lastModifiedDate.toLocaleDateString() :\n",
              "                                    'n/a'} - `));\n",
              "    const percent = span('0% done');\n",
              "    li.appendChild(percent);\n",
              "\n",
              "    outputElement.appendChild(li);\n",
              "\n",
              "    const fileDataPromise = new Promise((resolve) => {\n",
              "      const reader = new FileReader();\n",
              "      reader.onload = (e) => {\n",
              "        resolve(e.target.result);\n",
              "      };\n",
              "      reader.readAsArrayBuffer(file);\n",
              "    });\n",
              "    // Wait for the data to be ready.\n",
              "    let fileData = yield {\n",
              "      promise: fileDataPromise,\n",
              "      response: {\n",
              "        action: 'continue',\n",
              "      }\n",
              "    };\n",
              "\n",
              "    // Use a chunked sending to avoid message size limits. See b/62115660.\n",
              "    let position = 0;\n",
              "    do {\n",
              "      const length = Math.min(fileData.byteLength - position, MAX_PAYLOAD_SIZE);\n",
              "      const chunk = new Uint8Array(fileData, position, length);\n",
              "      position += length;\n",
              "\n",
              "      const base64 = btoa(String.fromCharCode.apply(null, chunk));\n",
              "      yield {\n",
              "        response: {\n",
              "          action: 'append',\n",
              "          file: file.name,\n",
              "          data: base64,\n",
              "        },\n",
              "      };\n",
              "\n",
              "      let percentDone = fileData.byteLength === 0 ?\n",
              "          100 :\n",
              "          Math.round((position / fileData.byteLength) * 100);\n",
              "      percent.textContent = `${percentDone}% done`;\n",
              "\n",
              "    } while (position < fileData.byteLength);\n",
              "  }\n",
              "\n",
              "  // All done.\n",
              "  yield {\n",
              "    response: {\n",
              "      action: 'complete',\n",
              "    }\n",
              "  };\n",
              "}\n",
              "\n",
              "scope.google = scope.google || {};\n",
              "scope.google.colab = scope.google.colab || {};\n",
              "scope.google.colab._files = {\n",
              "  _uploadFiles,\n",
              "  _uploadFilesContinue,\n",
              "};\n",
              "})(self);\n",
              "</script> "
            ]
          },
          "metadata": {}
        },
        {
          "output_type": "stream",
          "name": "stdout",
          "text": [
            "Saving dl_data.csv to dl_data.csv\n"
          ]
        }
      ]
    },
    {
      "cell_type": "code",
      "source": [
        "#Reading the file now\n",
        "data = spark.read.csv('dl_data.csv', header=True,\n",
        "inferSchema=True)\n",
        "data.show()"
      ],
      "metadata": {
        "colab": {
          "base_uri": "https://localhost:8080/",
          "height": 0
        },
        "id": "KgIScc1LmRXF",
        "outputId": "1928bf7c-25aa-4cea-c3f7-17d37351e2e9"
      },
      "execution_count": 8,
      "outputs": [
        {
          "output_type": "stream",
          "name": "stdout",
          "text": [
            "+-------------------+---------------------+-----------------+-------------------------------------+-------------------------------+-----------------------+------------------------------+-------------------------------+-------------------------+-------------------------+-------------------+------------------+-------------------+-----------------+------------------+------------------+-------------------------+\n",
            "|Visit_Number_Bucket|Page_Views_Normalized|Orders_Normalized|Internal_Search_Successful_Normalized|Internal_Search_Null_Normalized|Email_Signup_Normalized|Total_Seconds_Spent_Normalized|Store_Locator_Search_Normalized|Mapped_Last_Touch_Channel|Mapped_Mobile_Device_Type|Mapped_Browser_Type|Mapped_Entry_Pages|Mapped_Site_Section|Mapped_Promo_Code|Maped_Product_Name|Mapped_Search_Term|Mapped_Product_Collection|\n",
            "+-------------------+---------------------+-----------------+-------------------------------------+-------------------------------+-----------------------+------------------------------+-------------------------------+-------------------------+-------------------------+-------------------+------------------+-------------------+-----------------+------------------+------------------+-------------------------+\n",
            "|      less than  11|          0.026315789|                1|                                  0.0|                            0.0|                    0.0|                     4.5819E-4|                            0.0|                 Channel1|                  Device1|           Browser1|       Entry_Page1|      Site_Section1|      Promo_Code1|     Product_Name1|      Search_Term1|      Product_Collection1|\n",
            "|      less than  11|                  0.0|                1|                                  0.0|                            0.0|                    0.0|                           0.0|                            0.0|                 Channel1|                  Device1|           Browser2|       Entry_Page2|      Site_Section1|      Promo_Code1|     Product_Name1|      Search_Term1|      Product_Collection2|\n",
            "|      less than  11|                  0.0|                1|                                  0.0|                            0.0|                    0.0|                   0.002863688|                            0.0|                 Channel1|                  Device1|           Browser1|       Entry_Page2|      Site_Section1|      Promo_Code1|     Product_Name2|      Search_Term1|      Product_Collection3|\n",
            "|      less than  11|                  0.0|                1|                                  0.0|                            0.0|                    0.0|                   0.002863688|                            0.0|                 Channel1|                  Device1|           Browser1|       Entry_Page2|      Site_Section1|      Promo_Code1|     Product_Name2|      Search_Term1|      Product_Collection3|\n",
            "|      less than  11|          0.052631579|                1|                                  0.0|                            0.0|                    0.0|                   0.021764032|                            0.0|                 Channel1|                  Device1|           Browser2|       Entry_Page2|      Site_Section1|      Promo_Code1|     Product_Name3|      Search_Term1|      Product_Collection4|\n",
            "|      less than  11|          0.052631579|                1|                                  0.0|                            0.0|                    0.0|                   0.021764032|                            0.0|                 Channel1|                  Device1|           Browser2|       Entry_Page2|      Site_Section1|      Promo_Code1|     Product_Name2|      Search_Term1|      Product_Collection4|\n",
            "|      less than  11|                  0.0|                1|                                  0.0|                            0.0|                    0.0|                   0.002863688|                            0.0|                 Channel1|                  Device1|           Browser2|       Entry_Page1|      Site_Section1|      Promo_Code1|     Product_Name4|      Search_Term1|      Product_Collection5|\n",
            "|      less than  11|                  0.0|                1|                                  0.0|                            0.0|                    0.0|                           0.0|                            0.0|                 Channel1|                  Device1|           Browser3|       Entry_Page2|      Site_Section1|      Promo_Code2|     Product_Name2|      Search_Term1|      Product_Collection3|\n",
            "|      less than  11|                  0.0|                1|                                  0.0|                            0.0|                    0.0|                           0.0|                            0.0|                 Channel1|                  Device1|           Browser3|       Entry_Page2|      Site_Section1|      Promo_Code2|     Product_Name2|      Search_Term1|      Product_Collection3|\n",
            "|      less than  11|                  0.0|                1|                                  0.0|                            0.0|                    0.0|                           0.0|                            0.0|                 Channel1|                  Device1|           Browser3|       Entry_Page2|      Site_Section1|      Promo_Code2|     Product_Name1|      Search_Term1|      Product_Collection3|\n",
            "|      less than  11|                  0.0|                1|                                  0.0|                            0.0|                    0.0|                           0.0|                            0.0|                 Channel1|                  Device1|           Browser1|       Entry_Page3|      Site_Section1|      Promo_Code1|     Product_Name5|      Search_Term1|      Product_Collection6|\n",
            "|      less than  11|                  0.0|                1|                                  0.0|                            0.0|                    0.0|                   0.006071019|                            0.0|                 Channel1|                  Device1|           Browser2|       Entry_Page1|      Site_Section1|      Promo_Code1|     Product_Name1|      Search_Term1|      Product_Collection7|\n",
            "|      less than  11|                  0.0|                1|                                  0.0|                            0.0|                    0.0|                   0.006414662|                            0.0|                 Channel1|                  Device1|           Browser2|       Entry_Page4|      Site_Section1|      Promo_Code1|     Product_Name2|      Search_Term1|      Product_Collection1|\n",
            "|      less than  11|                  0.0|                1|                                  0.0|                            0.0|                    0.0|                           0.0|                            0.0|                 Channel1|                  Device1|           Browser2|       Entry_Page2|      Site_Section1|      Promo_Code1|     Product_Name1|      Search_Term2|      Product_Collection3|\n",
            "|      less than  11|                  0.0|                1|                                  0.0|                            0.0|                    0.0|                           0.0|                            0.0|                 Channel1|                  Device1|           Browser2|       Entry_Page1|      Site_Section1|      Promo_Code1|     Product_Name1|      Search_Term1|      Product_Collection1|\n",
            "|      less than  11|                  0.0|                1|                                  0.0|                            0.0|                    0.0|                   0.001145475|                            0.0|                 Channel1|                  Device1|           Browser1|       Entry_Page4|      Site_Section1|      Promo_Code1|     Product_Name1|      Search_Term1|      Product_Collection1|\n",
            "|      less than  11|                  0.0|                1|                                  0.0|                            0.0|                    0.0|                           0.0|                            0.0|                 Channel1|                  Device1|           Browser1|       Entry_Page5|      Site_Section1|      Promo_Code1|     Product_Name1|      Search_Term1|      Product_Collection1|\n",
            "|      less than  11|                  0.0|                1|                                  0.0|                            0.0|                    0.0|                           0.0|                            0.0|                 Channel1|                  Device1|           Browser1|       Entry_Page4|      Site_Section1|      Promo_Code3|     Product_Name2|      Search_Term1|      Product_Collection1|\n",
            "|      less than  11|                  0.0|                1|                                  0.0|                            0.0|                    0.0|                           0.0|                            0.0|                 Channel1|                  Device1|           Browser1|       Entry_Page4|      Site_Section1|      Promo_Code1|     Product_Name1|      Search_Term1|      Product_Collection3|\n",
            "|      less than  11|                  0.0|                1|                                  0.0|                            0.0|                    0.0|                           0.0|                            0.0|                 Channel1|                  Device1|           Browser2|       Entry_Page1|      Site_Section1|      Promo_Code1|     Product_Name1|      Search_Term1|      Product_Collection8|\n",
            "+-------------------+---------------------+-----------------+-------------------------------------+-------------------------------+-----------------------+------------------------------+-------------------------------+-------------------------+-------------------------+-------------------+------------------+-------------------+-----------------+------------------+------------------+-------------------------+\n",
            "only showing top 20 rows\n",
            "\n"
          ]
        }
      ]
    },
    {
      "cell_type": "code",
      "source": [
        "data.dtypes\n"
      ],
      "metadata": {
        "colab": {
          "base_uri": "https://localhost:8080/",
          "height": 0
        },
        "id": "GdlNb5MCmeWn",
        "outputId": "aba3e871-ff2d-4d01-c4a3-35c1b3f63657"
      },
      "execution_count": 9,
      "outputs": [
        {
          "output_type": "execute_result",
          "data": {
            "text/plain": [
              "[('Visit_Number_Bucket', 'string'),\n",
              " ('Page_Views_Normalized', 'double'),\n",
              " ('Orders_Normalized', 'int'),\n",
              " ('Internal_Search_Successful_Normalized', 'double'),\n",
              " ('Internal_Search_Null_Normalized', 'double'),\n",
              " ('Email_Signup_Normalized', 'double'),\n",
              " ('Total_Seconds_Spent_Normalized', 'double'),\n",
              " ('Store_Locator_Search_Normalized', 'double'),\n",
              " ('Mapped_Last_Touch_Channel', 'string'),\n",
              " ('Mapped_Mobile_Device_Type', 'string'),\n",
              " ('Mapped_Browser_Type', 'string'),\n",
              " ('Mapped_Entry_Pages', 'string'),\n",
              " ('Mapped_Site_Section', 'string'),\n",
              " ('Mapped_Promo_Code', 'string'),\n",
              " ('Maped_Product_Name', 'string'),\n",
              " ('Mapped_Search_Term', 'string'),\n",
              " ('Mapped_Product_Collection', 'string')]"
            ]
          },
          "metadata": {},
          "execution_count": 9
        }
      ]
    },
    {
      "cell_type": "code",
      "source": [
        "from pyspark.sql.functions import col\n",
        "\n",
        "# Rename the 'Orders_Normalized' column to 'label'\n",
        "data = data.withColumnRenamed(\"Orders_Normalized\", \"label\")\n",
        "\n",
        "# Verify the column name change\n",
        "data.printSchema()\n"
      ],
      "metadata": {
        "colab": {
          "base_uri": "https://localhost:8080/",
          "height": 0
        },
        "id": "390Q-C-GnYEH",
        "outputId": "4a21625c-6b23-4dc7-a3e2-aa5c564f5106"
      },
      "execution_count": 10,
      "outputs": [
        {
          "output_type": "stream",
          "name": "stdout",
          "text": [
            "root\n",
            " |-- Visit_Number_Bucket: string (nullable = true)\n",
            " |-- Page_Views_Normalized: double (nullable = true)\n",
            " |-- label: integer (nullable = true)\n",
            " |-- Internal_Search_Successful_Normalized: double (nullable = true)\n",
            " |-- Internal_Search_Null_Normalized: double (nullable = true)\n",
            " |-- Email_Signup_Normalized: double (nullable = true)\n",
            " |-- Total_Seconds_Spent_Normalized: double (nullable = true)\n",
            " |-- Store_Locator_Search_Normalized: double (nullable = true)\n",
            " |-- Mapped_Last_Touch_Channel: string (nullable = true)\n",
            " |-- Mapped_Mobile_Device_Type: string (nullable = true)\n",
            " |-- Mapped_Browser_Type: string (nullable = true)\n",
            " |-- Mapped_Entry_Pages: string (nullable = true)\n",
            " |-- Mapped_Site_Section: string (nullable = true)\n",
            " |-- Mapped_Promo_Code: string (nullable = true)\n",
            " |-- Maped_Product_Name: string (nullable = true)\n",
            " |-- Mapped_Search_Term: string (nullable = true)\n",
            " |-- Mapped_Product_Collection: string (nullable = true)\n",
            "\n"
          ]
        }
      ]
    },
    {
      "cell_type": "code",
      "source": [
        "#3) Applying MPC\n",
        "train, validation, test = data.randomSplit([0.7, 0.2, 0.1], 1234)\n",
        "#4) Building the pipeline\n",
        "categorical_columns = [item[0] for item in data.dtypes if item[1].startswith('string')]\n",
        "numeric_columns = [item[0] for item in data.dtypes if item[1].startswith('double')]\n",
        "indexers = [StringIndexer(inputCol=column, outputCol='{0}_index'.format(\n",
        "column)) for column in categorical_columns]\n",
        "#Now we will building string indexer to further create the feature set from our data\n",
        "featuresCreator = VectorAssembler(inputCols=[indexer.getOutputCol() for indexer in indexers] +\n",
        "numeric_columns, outputCol=\"features\")\n",
        "#Configure the classifier\n",
        "layers = [len(featuresCreator.getInputCols()), 4, 2, 2]\n",
        "classifier = MultilayerPerceptronClassifier(labelCol='label', featuresCol='features', maxIter=100,\n",
        "layers=layers, blockSize=128, seed=1234)\n",
        "#Now are pipeline is configured so we can further move to fitting and prediction\n",
        "#5) Fit and get output from pipeline\n",
        "pipeline = Pipeline(stages=indexers + [featuresCreator, classifier])\n",
        "model = pipeline.fit(train)\n",
        "# let's checkout the results\n",
        "train_output_df = model.transform(train)\n",
        "validation_output_df = model.transform(validation)\n",
        "test_output_df = model.transform(test)\n"
      ],
      "metadata": {
        "id": "NSRG98kvnt4Q"
      },
      "execution_count": 14,
      "outputs": []
    },
    {
      "cell_type": "code",
      "source": [
        "#6) Evaluate using different metrics\n",
        "from pyspark.ml.evaluation import MulticlassClassificationEvaluator\n",
        "\n",
        "train_predictionAndLabels = train_output_df.select(\"prediction\", \"label\")\n",
        "validation_predictionAndLabels = validation_output_df.select(\"prediction\", \"label\")\n",
        "test_predictionAndLabels = test_output_df.select(\"prediction\", \"label\")\n",
        "metrics = ['weightedPrecision', 'weightedRecall', 'accuracy']\n",
        "\n",
        "for metric in metrics:\n",
        "    evaluator = MulticlassClassificationEvaluator(metricName=metric)\n",
        "    print('Train ' + metric + ' = ' + str(evaluator.evaluate(train_predictionAndLabels)))\n",
        "    print('Validation ' + metric + ' = ' + str(evaluator.evaluate(validation_predictionAndLabels)))\n",
        "    print('Test ' + metric + ' = ' + str(evaluator.evaluate(test_predictionAndLabels)))\n"
      ],
      "metadata": {
        "colab": {
          "base_uri": "https://localhost:8080/",
          "height": 0
        },
        "id": "WYwEyKouojWt",
        "outputId": "8cfd7876-e47a-4ca9-c155-22a4e5c9418c"
      },
      "execution_count": 16,
      "outputs": [
        {
          "output_type": "stream",
          "name": "stdout",
          "text": [
            "Train weightedPrecision = 0.9694729151327164\n",
            "Validation weightedPrecision = 0.9691785841956515\n",
            "Test weightedPrecision = 0.9659545221451951\n",
            "Train weightedRecall = 0.9690713633094225\n",
            "Validation weightedRecall = 0.9687627603103308\n",
            "Test weightedRecall = 0.9654515778019587\n",
            "Train accuracy = 0.9690713633094225\n",
            "Validation accuracy = 0.9687627603103307\n",
            "Test accuracy = 0.9654515778019587\n"
          ]
        }
      ]
    },
    {
      "cell_type": "code",
      "source": [
        "#7) Plots and visualizations\n",
        "import matplotlib.pyplot as plt\n",
        "import numpy as np\n",
        "import itertools\n",
        "\n",
        "def plot_confusion_matrix(cm, classes, normalize=False, title='Confusion matrix', cmap=plt.cm.Blues):\n",
        "    \"\"\"\n",
        "    This function prints and plots the confusion matrix.\n",
        "    Normalization can be applied by setting `normalize=True`.\n",
        "    \"\"\"\n",
        "    if normalize:\n",
        "        cm = cm.astype('float') / cm.sum(axis=1)[:, np.newaxis]\n",
        "        print(\"Normalized confusion matrix\")\n",
        "    else:\n",
        "        print('Confusion matrix, without normalization')\n",
        "    print(cm)\n",
        "\n",
        "    plt.imshow(cm, interpolation='nearest', cmap=cmap)\n",
        "    plt.title(title)\n",
        "    plt.colorbar()\n",
        "    tick_marks = np.arange(len(classes))\n",
        "    plt.xticks(tick_marks, classes, rotation=45)\n",
        "    plt.yticks(tick_marks, classes)\n",
        "    fmt = '.2f' if normalize else 'd'\n",
        "    thresh = cm.max() / 2.\n",
        "    for i, j in itertools.product(range(cm.shape[0]), range(cm.shape[1])):\n",
        "        plt.text(j, i, format(cm[i, j], fmt), horizontalalignment=\"center\", color=\"white\" if cm[i, j] > thresh else \"black\")\n",
        "\n",
        "    plt.tight_layout()\n",
        "    plt.ylabel('True label')\n",
        "    plt.xlabel('Predicted label')\n",
        "\n",
        "# Get Class labels\n",
        "class_temp = test_predictionAndLabels.select(\"label\").groupBy(\"label\").count().sort('count', ascending=False).toPandas()\n",
        "class_labels = class_temp['label'].tolist()\n",
        "\n",
        "# Calculate confusion matrix\n",
        "from sklearn.metrics import confusion_matrix\n",
        "\n",
        "y_true = test_predictionAndLabels.select(\"label\").toPandas()\n",
        "y_pred = test_predictionAndLabels.select(\"prediction\").toPandas()\n",
        "cnf_matrix = confusion_matrix(y_true, y_pred, labels=class_labels)\n",
        "\n",
        "# Plotting Results\n",
        "plt.figure()\n",
        "plot_confusion_matrix(cnf_matrix, classes=class_labels, title='Confusion matrix, without normalization')\n",
        "plt.show()\n",
        "\n"
      ],
      "metadata": {
        "colab": {
          "base_uri": "https://localhost:8080/",
          "height": 558
        },
        "id": "uiE9Fb2XpSbt",
        "outputId": "467dc498-50f4-4627-a01b-8636355fa4c9"
      },
      "execution_count": 20,
      "outputs": [
        {
          "output_type": "stream",
          "name": "stdout",
          "text": [
            "Confusion matrix, without normalization\n",
            "[[3624  185]\n",
            " [  69 3474]]\n"
          ]
        },
        {
          "output_type": "display_data",
          "data": {
            "text/plain": [
              "<Figure size 640x480 with 2 Axes>"
            ],
            "image/png": "[encoded data removed]"
          },
          "metadata": {}
        }
      ]
    },
    {
      "cell_type": "code",
      "source": [
        "\"\"\"\n",
        "Q:What have you learned today?\n",
        "A: How to check the data types, and rename the\n",
        "column Applying MPC and Building the pipeline\n",
        "Overall, I learned how to use a pipeline in Apache Spark and how to perform data preprocessing by indexing categorical columns\n",
        "Furthermore, I learned how to create a feature vector, and train the classifier using the pipeline, and generates predictions on different datasets.\n",
        "2. Put results of steps 6 and 7. Explain what you have got there.\n",
        "A Step 6 :\n",
        "Train weightedPrecision = 0.9694729151327164: This indicates that, on the training dataset,\n",
        "the model achieved a weighted precision of approximately 0.969.\n",
        "Weighted precision means that the precision of each class and their respective proportions in the dataset.\n",
        "\n",
        "Validation weightedPrecision = 0.9691785841956515: This shows the weighted precision on the validation dataset,\n",
        " which is around 0.969. which means the model maintains a similar level of precision\n",
        "  when applied to unseen data during the validation stage.\n",
        "\n",
        "Test weightedPrecision = 0.9659545221451951: This represents the weighted precision on the test dataset,\n",
        "which is approximately 0.966.\n",
        "The model performs slightly lower in precision compared to the training and validation datasets.\n",
        "\n",
        "Train weightedRecall = 0.9690713633094225: This indicates the weighted recall on the training dataset,\n",
        " which is approximately 0.969.\n",
        "Weighted recall considers the recall of each class and their respective proportions in the dataset.\n",
        "\n",
        "Validation weightedRecall = 0.9687627603103308: This represents the weighted recall on the validation dataset,\n",
        " around 0.969. It implies that the model maintains a similar level of recall when\n",
        "  applied to unseen data during the validation stage.\n",
        "\n",
        "Test weightedRecall = 0.9654515778019587: This shows the weighted recall on the test dataset,\n",
        " which is approximately 0.965.The model performs slightly lower in recall compared to the training and validation datasets\n",
        " , but it still demonstrates a reasonably high recall.\n",
        "\n",
        "Train accuracy = 0.9690713633094225: This indicates the accuracy on the training dataset,\n",
        "which is approximately 0.969. Accuracy represents the overall correctness of the model's predictions.\n",
        "\n",
        "Validation accuracy = 0.9687627603103307: This represents the accuracy on the validation dataset, around 0.969.\n",
        "It suggests that the model maintains a similar level of accuracy when applied to unseen data during the validation stage.\n",
        "\n",
        "Test accuracy = 0.9654515778019587: This shows the accuracy on the test dataset, which is approximately 0.965.\n",
        "The model performs slightly lower in accuracy compared to the training and validation datasets,\n",
        " but it still demonstrates a reasonably high accuracy.\n",
        "\n",
        "Step 7\n",
        "\n",
        "The resulting plot provides a visual representation of the performance of a classification model by showing the distribution\n",
        "of predicted labels compared to the true labels.It helps in analyzing the model's accuracy and identifying any patterns or misclassifications.\n",
        "the code also calculates the confusion matrix using the confusion_matrix function from scikit-learn.\n",
        "The true labels (y_true) and predicted labels (y_pred) are extracted from the DataFrame and\n",
        "converted to pandas DataFrames. The confusion matrix is calculated based on the class labels.\n",
        "\n",
        "\n",
        "\n",
        "\n",
        "\n",
        "\n",
        "\n",
        "\"\"\""
      ],
      "metadata": {
        "id": "Hw4tQo8qsJkp"
      },
      "execution_count": null,
      "outputs": []
    }
  ]
}